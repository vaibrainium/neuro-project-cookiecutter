{
 "cells": [
  {
   "cell_type": "code",
   "execution_count": 2,
   "id": "fa32a3b0-6bc8-45f6-9ba7-a9b1d787d36c",
   "metadata": {},
   "outputs": [],
   "source": [
    "# OPTIONAL: Load the \"autoreload\" extension so that code can change\n",
    "%load_ext autoreload\n",
    "# Always reload modules so that as you change code in src, it gets loaded\n",
    "%autoreload 2"
   ]
  },
  {
   "cell_type": "code",
   "execution_count": 9,
   "id": "8c620f2f-2743-4511-94fa-de849034edbd",
   "metadata": {},
   "outputs": [
    {
     "name": "stdout",
     "output_type": "stream",
     "text": [
      "Requirement already satisfied: hydra-core in c:\\users\\mablab\\anaconda3\\lib\\site-packages (1.1.2)\n",
      "Requirement already satisfied: importlib-resources<5.3 in c:\\users\\mablab\\anaconda3\\lib\\site-packages (from hydra-core) (5.2.3)\n",
      "Requirement already satisfied: antlr4-python3-runtime==4.8 in c:\\users\\mablab\\anaconda3\\lib\\site-packages (from hydra-core) (4.8)\n",
      "Requirement already satisfied: omegaconf==2.1.* in c:\\users\\mablab\\anaconda3\\lib\\site-packages (from hydra-core) (2.1.2)\n",
      "Requirement already satisfied: PyYAML>=5.1.0 in c:\\users\\mablab\\appdata\\roaming\\python\\python38\\site-packages (from omegaconf==2.1.*->hydra-core) (5.4.1)\n",
      "Requirement already satisfied: zipp>=3.1.0 in c:\\users\\mablab\\anaconda3\\lib\\site-packages (from importlib-resources<5.3->hydra-core) (3.4.1)\n"
     ]
    }
   ],
   "source": [
    "!pip install hydra-core --upgrade"
   ]
  },
  {
   "cell_type": "code",
   "execution_count": 27,
   "id": "4b45f79d-1aee-4667-a640-49af9f7e495a",
   "metadata": {},
   "outputs": [
    {
     "name": "stderr",
     "output_type": "stream",
     "text": [
      "usage: ipykernel_launcher.py [--help] [--hydra-help] [--version] [--cfg {job,hydra,all}] [--resolve]\n",
      "                             [--package PACKAGE] [--run] [--multirun] [--shell-completion] [--config-path CONFIG_PATH]\n",
      "                             [--config-name CONFIG_NAME] [--config-dir CONFIG_DIR]\n",
      "                             [--info [{all,config,defaults,defaults-tree,plugins,searchpath}]]\n",
      "                             [overrides [overrides ...]]\n",
      "ipykernel_launcher.py: error: unrecognized arguments: -f\n"
     ]
    },
    {
     "ename": "SystemExit",
     "evalue": "2",
     "output_type": "error",
     "traceback": [
      "An exception has occurred, use %tb to see the full traceback.\n",
      "\u001b[1;31mSystemExit\u001b[0m\u001b[1;31m:\u001b[0m 2\n"
     ]
    }
   ],
   "source": [
    "import hydra\n",
    "from omegaconf import DictConfig\n",
    "from hydra import initialize, initialize_config_module, initialize_config_dir, compose\n",
    "from hydra.utils import to_absolute_path as abspath\n",
    "\n",
    "# @hydra.main(config_path=\"../config\", config_name='main')\n",
    "\n",
    "@hydra.main(config_path='.', config_name='main')\n",
    "def process_data(config: DictConfig):\n",
    "    \"\"\"Function to process the data\"\"\"\n",
    "    None\n",
    "#     raw_path = abspath(config.raw.path)\n",
    "#     print(raw_path)\n",
    "#     print(f\"Process data using {raw_path}\")\n",
    "#     print(f\"Columns used: {config.process.use_columns}\")\n",
    "\n",
    "process_data()"
   ]
  },
  {
   "cell_type": "code",
   "execution_count": 11,
   "id": "65f51937-2c4b-4c7b-9d83-9757dc571dfb",
   "metadata": {},
   "outputs": [],
   "source": [
    "import os\n",
    "from hydra import initialize, initialize_config_module, initialize_config_dir, compose\n",
    "from omegaconf import OmegaConf\n",
    "\n",
    "# with initialize(version_base=None, config_path=\"cloud_app/conf\"):\n",
    "#     cfg = compose(overrides=[\"+db=mysql\"])\n",
    "#     print(cfg)"
   ]
  }
 ],
 "metadata": {
  "kernelspec": {
   "display_name": "Python 3",
   "language": "python",
   "name": "python3"
  },
  "language_info": {
   "codemirror_mode": {
    "name": "ipython",
    "version": 3
   },
   "file_extension": ".py",
   "mimetype": "text/x-python",
   "name": "python",
   "nbconvert_exporter": "python",
   "pygments_lexer": "ipython3",
   "version": "3.8.8"
  }
 },
 "nbformat": 4,
 "nbformat_minor": 5
}
